{
  "nbformat": 4,
  "nbformat_minor": 0,
  "metadata": {
    "colab": {
      "provenance": [],
      "toc_visible": true
    },
    "kernelspec": {
      "name": "python3",
      "display_name": "Python 3"
    },
    "language_info": {
      "name": "python"
    }
  },
  "cells": [
    {
      "cell_type": "code",
      "execution_count": null,
      "metadata": {
        "id": "HWA_U9fV0gXd"
      },
      "outputs": [],
      "source": []
    },
    {
      "cell_type": "code",
      "source": [
        "l1=[1,2,3,4,5]\n",
        "l2=[4,5,6,7,8]\n",
        "a=l1+l2\n",
        "print(a)\n",
        "print(type(a))\n",
        "\n"
      ],
      "metadata": {
        "colab": {
          "base_uri": "https://localhost:8080/"
        },
        "id": "YkUUoPB00nwC",
        "outputId": "a7fa5ce7-9df7-4f63-bf02-c0d4f2e8cc8e"
      },
      "execution_count": 1,
      "outputs": [
        {
          "output_type": "stream",
          "name": "stdout",
          "text": [
            "[1, 2, 3, 4, 5, 4, 5, 6, 7, 8]\n",
            "<class 'list'>\n"
          ]
        }
      ]
    },
    {
      "cell_type": "code",
      "source": [
        "import numpy as np\n",
        "list1 = np.array([1, 2, 3, 4, 5])\n",
        "print(list1)\n",
        "# Accessing elements\n",
        "print(list1[2])\n",
        "# Slicing\n",
        "print(list1[1:4])"
      ],
      "metadata": {
        "colab": {
          "base_uri": "https://localhost:8080/"
        },
        "id": "c_Yb8hpn1Jqy",
        "outputId": "2b25e104-fd35-48d7-d994-5912f86235cb"
      },
      "execution_count": 2,
      "outputs": [
        {
          "output_type": "stream",
          "name": "stdout",
          "text": [
            "[1 2 3 4 5]\n",
            "3\n",
            "[2 3 4]\n"
          ]
        }
      ]
    },
    {
      "cell_type": "code",
      "source": [
        "import numpy as np\n",
        "l1=[1,2,3,4]\n",
        "l2=[6,7,8,9]\n",
        "a=np.array(l1)\n",
        "b=np.array(l2)\n",
        "print(a+b)\n",
        "print(type(a+b))"
      ],
      "metadata": {
        "colab": {
          "base_uri": "https://localhost:8080/"
        },
        "id": "LoNdtql91R89",
        "outputId": "25f55e0c-9053-413f-ef89-7ff868dac795"
      },
      "execution_count": 3,
      "outputs": [
        {
          "output_type": "stream",
          "name": "stdout",
          "text": [
            "[ 7  9 11 13]\n",
            "<class 'numpy.ndarray'>\n"
          ]
        }
      ]
    },
    {
      "cell_type": "code",
      "source": [
        "import numpy as np\n",
        "a=[[1,2,3],[4,5,6],[7,8,9]]\n",
        "b=[[1,3,4],[4,2,9],[1,2,3]]\n",
        "c=np.array(a)\n",
        "d=np.array(b)\n",
        "print(c+d)\n",
        "#multiplication\n",
        "e=np.matmul(a,b)\n",
        "print(e)\n",
        "f=np.power(a,b)\n",
        "print(f)\n",
        "g=np.divide(a,b)\n",
        "print(g)"
      ],
      "metadata": {
        "colab": {
          "base_uri": "https://localhost:8080/"
        },
        "id": "smFjwj7t1jwI",
        "outputId": "1766bc9c-2808-4312-8247-efa06a8bf9ac"
      },
      "execution_count": 4,
      "outputs": [
        {
          "output_type": "stream",
          "name": "stdout",
          "text": [
            "[[ 2  5  7]\n",
            " [ 8  7 15]\n",
            " [ 8 10 12]]\n",
            "[[ 12  13  31]\n",
            " [ 30  34  79]\n",
            " [ 48  55 127]]\n",
            "[[       1        8       81]\n",
            " [     256       25 10077696]\n",
            " [       7       64      729]]\n",
            "[[1.         0.66666667 0.75      ]\n",
            " [1.         2.5        0.66666667]\n",
            " [7.         4.         3.        ]]\n"
          ]
        }
      ]
    },
    {
      "cell_type": "code",
      "source": [
        "import numpy as np\n",
        "l1=[1,2,3,4]\n",
        "l2=[6,7,8,9]\n",
        "a=np.array(l1)\n",
        "b=np.array(l2)\n",
        "print(a+b)"
      ],
      "metadata": {
        "colab": {
          "base_uri": "https://localhost:8080/"
        },
        "id": "pqPA8mrC27Es",
        "outputId": "9fc43925-2393-4ffd-e544-2df0cdf07c2d"
      },
      "execution_count": 6,
      "outputs": [
        {
          "output_type": "stream",
          "name": "stdout",
          "text": [
            "[ 7  9 11 13]\n"
          ]
        }
      ]
    },
    {
      "cell_type": "code",
      "source": [
        "app=[1,3,2,4]\n",
        "s=np.sin(app)\n",
        "print(s)\n",
        "t=np.log(app)\n",
        "print(t)\n",
        "u=np.log2(app)\n",
        "print(u)\n",
        "v=np.exp(app)\n",
        "print(v)"
      ],
      "metadata": {
        "colab": {
          "base_uri": "https://localhost:8080/"
        },
        "id": "c-zOmaQn3Buv",
        "outputId": "9fcd8fb5-c36f-4105-85ca-f27ba5d2019e"
      },
      "execution_count": 7,
      "outputs": [
        {
          "output_type": "stream",
          "name": "stdout",
          "text": [
            "[ 0.84147098  0.14112001  0.90929743 -0.7568025 ]\n",
            "[0.         1.09861229 0.69314718 1.38629436]\n",
            "[0.        1.5849625 1.        2.       ]\n",
            "[ 2.71828183 20.08553692  7.3890561  54.59815003]\n"
          ]
        }
      ]
    },
    {
      "cell_type": "code",
      "source": [
        "import pandas as pd\n",
        "people = ['mintu', 'harsha', 'raj', 'roy']\n",
        "age = [25, 30, 35, 40]\n",
        "height = [145, 151, 165, 173]\n",
        "weight = [45, 55, 65, 75]\n",
        "health = pd.DataFrame({\n",
        "    'name': people,\n",
        "        'Age': age,\n",
        "            'Height': height,\n",
        "                'Weight': weight\n",
        "                    })\n",
        "\n",
        "\n",
        "print(health)"
      ],
      "metadata": {
        "colab": {
          "base_uri": "https://localhost:8080/"
        },
        "id": "naQZ_0vm6UNs",
        "outputId": "25e559f7-c88d-420a-f5f7-47ffd891a83e"
      },
      "execution_count": 15,
      "outputs": [
        {
          "output_type": "stream",
          "name": "stdout",
          "text": [
            "     name  Age  Height  Weight\n",
            "0   mintu   25     145      45\n",
            "1  harsha   30     151      55\n",
            "2     raj   35     165      65\n",
            "3     roy   40     173      75\n"
          ]
        }
      ]
    },
    {
      "cell_type": "code",
      "source": [
        "import pandas as pd\n",
        "import matplotlib.pyplot as plt\n",
        "people = ['mintu', 'harsha', 'raj', 'roy']\n",
        "age = [25, 30, 35, 40]\n",
        "height = [145, 151, 165, 173]\n",
        "weight = [45, 55, 65, 75]\n",
        "health = pd.DataFrame({'People': people, 'Age': age, 'Height': height, 'Weight': weight})\n",
        "#scatter\n",
        "plt.figure(figsize=(8, 6))\n",
        "plt.scatter(health['Age'], health['Weight'])\n",
        "plt.title('Scatter Plot of Age vs Weight')\n",
        "plt.xlabel('Age')\n",
        "plt.ylabel('Weight')\n",
        "plt.grid()\n",
        "plt.show()\n",
        "\n",
        "# Bar Chart\n",
        "plt.figure(figsize=(8, 6))\n",
        "plt.bar(health['People'], health['Height'], color='green')\n",
        "plt.title('Bar Chart of People vs Height')\n",
        "plt.xlabel('People')\n",
        "plt.ylabel('Height')\n",
        "plt.grid(axis='y')\n",
        "plt.show()\n",
        "\n",
        "#  Histogram\n",
        "plt.figure(figsize=(8, 6))\n",
        "plt.hist(health['Age'],color='blue')\n",
        "plt.title('Histogram of Age')\n",
        "plt.xlabel('Age')\n",
        "plt.ylabel('Frequency')\n",
        "plt.grid(axis='y')\n",
        "plt.show()"
      ],
      "metadata": {
        "colab": {
          "base_uri": "https://localhost:8080/",
          "height": 1000
        },
        "id": "BJn19Q0y6uNL",
        "outputId": "9a35ae68-6897-440a-a09b-88aadad7f6c5"
      },
      "execution_count": 16,
      "outputs": [
        {
          "output_type": "display_data",
          "data": {
            "text/plain": [
              "<Figure size 800x600 with 1 Axes>"
            ],
            "image/png": "[encoded data removed]"
          },
          "metadata": {}
        },
        {
          "output_type": "display_data",
          "data": {
            "text/plain": [
              "<Figure size 800x600 with 1 Axes>"
            ],
            "image/png": "[encoded data removed]"
          },
          "metadata": {}
        },
        {
          "output_type": "display_data",
          "data": {
            "text/plain": [
              "<Figure size 800x600 with 1 Axes>"
            ],
            "image/png": "[encoded data removed]"
          },
          "metadata": {}
        }
      ]
    },
    {
      "cell_type": "code",
      "source": [
        "\n",
        "\n",
        "\n",
        "import pandas as pd\n",
        "d=pd.read_csv('/content/2203a51264.csv')\n",
        "print(d)"
      ],
      "metadata": {
        "colab": {
          "base_uri": "https://localhost:8080/"
        },
        "id": "h8SuWnkl9xGA",
        "outputId": "7b58510c-0feb-4d9d-a976-fd0af77ec96f"
      },
      "execution_count": 17,
      "outputs": [
        {
          "output_type": "stream",
          "name": "stdout",
          "text": [
            "    1  Harshith  90\n",
            "0   2    Harsha  87\n",
            "1   3  Varshith  87\n",
            "2   4    Dharma  66\n",
            "3   5  Sathvika  87\n",
            "4   6   Srikari  95\n",
            "5   7    neeraj  56\n",
            "6   8     karan  59\n",
            "7   9   sathwik  89\n",
            "8  10      anil  54\n"
          ]
        }
      ]
    },
    {
      "cell_type": "code",
      "source": [
        "d=pd.read_excel('/content/Harshith.xlsx')\n",
        "print(d)"
      ],
      "metadata": {
        "colab": {
          "base_uri": "https://localhost:8080/"
        },
        "id": "D1-xbTZ1OHi4",
        "outputId": "838d62ef-b674-4528-d24d-d0b6a0d03e78"
      },
      "execution_count": 18,
      "outputs": [
        {
          "output_type": "stream",
          "name": "stdout",
          "text": [
            "    1  Harshith  90\n",
            "0   2    Harsha  87\n",
            "1   3  Varshith  87\n",
            "2   4    Dharma  66\n",
            "3   5  Sathvika  87\n",
            "4   6   Srikari  95\n",
            "5   7    neeraj  56\n",
            "6   8     karan  59\n",
            "7   9   sathwik  89\n",
            "8  10      anil  54\n"
          ]
        }
      ]
    },
    {
      "cell_type": "code",
      "source": [
        "d=pd.read_csv('/2203a51264.tsv')\n",
        "print(d)"
      ],
      "metadata": {
        "colab": {
          "base_uri": "https://localhost:8080/"
        },
        "id": "NyM-lO0kOTvF",
        "outputId": "6a774683-0d6a-40e1-858e-67414d79105d"
      },
      "execution_count": 19,
      "outputs": [
        {
          "output_type": "stream",
          "name": "stdout",
          "text": [
            "   1\\tHarshith\\t90\n",
            "0    2\\tHarsha\\t87\n",
            "1  3\\tVarshith\\t87\n",
            "2    4\\tDharma\\t66\n",
            "3  5\\tSathvika\\t87\n",
            "4   6\\tSrikari\\t95\n",
            "5    7\\tneeraj\\t56\n",
            "6     8\\tkaran\\t59\n",
            "7   9\\tsathwik\\t89\n",
            "8     10\\tanil\\t54\n"
          ]
        }
      ]
    }
  ]
}